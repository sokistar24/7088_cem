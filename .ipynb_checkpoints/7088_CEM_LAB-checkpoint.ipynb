{
 "cells": [
  {
   "cell_type": "markdown",
   "id": "d4fa94af-b310-4162-be72-95a00f646158",
   "metadata": {},
   "source": [
    "# Lesson Outline\n",
    "- Brief Intro to Reinforcement Learning\n",
    "- What is Gymnasium\n",
    "- Frozen Lake Challenge\n",
    "- Q Learning\n",
    "- The Exploration and Exploitation Dilemma\n",
    "- Extra (Deep Reinforcement Learning)\n",
    "\n"
   ]
  },
  {
   "cell_type": "markdown",
   "id": "00985a99-f9af-4aaa-aa1c-49eb8b678889",
   "metadata": {},
   "source": [
    "| ![image](images/intro_image.png \"Intro_to_RL\") |\n",
    "|:---:|\n"
   ]
  },
  {
   "cell_type": "markdown",
   "id": "f9b16f37-7ba6-44c3-bcbd-1b5a3ddb96b2",
   "metadata": {},
   "source": [
    "#                                                                                                       The Frozen Lake Challenge "
   ]
  },
  {
   "cell_type": "markdown",
   "id": "74b54399-33b9-4ae4-89ff-c46df4e9ba27",
   "metadata": {},
   "source": [
    "<div style=\"text-align: center;\">\n",
    "  <img src=\"images/frozen_lake.png\" alt=\"Frozen Lake\" title=\"Frozen Lake\" width=\"500\" height=\"auto\" />\n",
    "</div>\n",
    "\n",
    "image source : https://medium.com/mlearning-ai/a-deep-dive-into-reinforcement-learning-q-learning-and-deep-q-learning-on-a-10x10-frozenlake-c76d56810a46\n",
    "Author : Nandan Grover"
   ]
  },
  {
   "cell_type": "code",
   "execution_count": 30,
   "id": "d410ea45-0410-4978-ba17-14c2944061cc",
   "metadata": {},
   "outputs": [],
   "source": [
    "# Importing libraries\n",
    "# https://gymnasium.farama.org/\n",
    "import numpy as np \n",
    "import gymnasium as gym\n",
    "import  matplotlib.pyplot as plt\n",
    "import time"
   ]
  },
  {
   "cell_type": "code",
   "execution_count": 31,
   "id": "cdacc52a-7457-433f-92d3-08fad68cdbc1",
   "metadata": {},
   "outputs": [],
   "source": [
    "env=gym.make('FrozenLake-v1', desc=None, map_name=\"4x4\", is_slippery=False,render_mode='human')"
   ]
  },
  {
   "cell_type": "code",
   "execution_count": 32,
   "id": "be80f046-51bf-4912-98c2-3f5ce1df05ef",
   "metadata": {},
   "outputs": [],
   "source": [
    "env.reset()\n",
    "for step in range(50):\n",
    "    \n",
    "    env.render()\n",
    "    action = env.action_space.sample() # \n",
    "    observation,reward,terminated,truncated,info = env.step(action)\n",
    "    time.sleep(0.5)\n",
    "    if terminated or truncated:\n",
    "        env.reset()\n",
    "env.close()\n"
   ]
  },
  {
   "cell_type": "code",
   "execution_count": 33,
   "id": "48b220d3-f201-4c79-b7ef-0da1aed34909",
   "metadata": {},
   "outputs": [],
   "source": [
    "Q = np.zeros([env.observation_space.n,env.action_space.n])"
   ]
  },
  {
   "cell_type": "code",
   "execution_count": 34,
   "id": "38f975c6-7cca-49bd-9f5d-47aa89fa846d",
   "metadata": {},
   "outputs": [
    {
     "name": "stdout",
     "output_type": "stream",
     "text": [
      "[[0. 0. 0. 0.]\n",
      " [0. 0. 0. 0.]\n",
      " [0. 0. 0. 0.]\n",
      " [0. 0. 0. 0.]\n",
      " [0. 0. 0. 0.]\n",
      " [0. 0. 0. 0.]\n",
      " [0. 0. 0. 0.]\n",
      " [0. 0. 0. 0.]\n",
      " [0. 0. 0. 0.]\n",
      " [0. 0. 0. 0.]\n",
      " [0. 0. 0. 0.]\n",
      " [0. 0. 0. 0.]\n",
      " [0. 0. 0. 0.]\n",
      " [0. 0. 0. 0.]\n",
      " [0. 0. 0. 0.]\n",
      " [0. 0. 0. 0.]]\n"
     ]
    }
   ],
   "source": [
    "print (Q)"
   ]
  },
  {
   "cell_type": "code",
   "execution_count": 35,
   "id": "68add5ef-6604-4f8e-8695-b422e4558123",
   "metadata": {},
   "outputs": [],
   "source": [
    "# Learning parameters\n",
    "Alpha = 0.8 # Learning rate\n",
    "Gamma = 0.9 # discount factor \n"
   ]
  },
  {
   "cell_type": "code",
   "execution_count": 36,
   "id": "183e8d9a-30e6-4b8b-a288-bcfdf2962b56",
   "metadata": {},
   "outputs": [],
   "source": [
    "epsilon = 1.0\n",
    "max_epsilon = 1.0\n",
    "min_epsilon = 0.01\n",
    "decay_rate = 0.01\n",
    "epoch = 20000"
   ]
  },
  {
   "cell_type": "code",
   "execution_count": 37,
   "id": "f9e06e75-230b-4341-938e-36a2bad43ca6",
   "metadata": {},
   "outputs": [],
   "source": [
    "def reduce_epsilon(epsilon,epoch):\n",
    "    \n",
    "    return min_epsilon + (max_epsilon-min_epsilon)*np.exp(-decay_rate * epoch)"
   ]
  },
  {
   "cell_type": "code",
   "execution_count": 60,
   "id": "5b1d51d9-26eb-4cc6-90b7-f06780eca41d",
   "metadata": {},
   "outputs": [
    {
     "data": {
      "image/png": "[encoded data removed]",
      "text/plain": [
       "<Figure size 640x480 with 1 Axes>"
      ]
     },
     "metadata": {},
     "output_type": "display_data"
    }
   ],
   "source": [
    "\n",
    "epochs = np.arange(1, 500)\n",
    "epsilons = [reduce_epsilon(epsilon, epoch) for epoch in epochs]\n",
    "\n",
    "plt.plot(epochs, epsilons)\n",
    "plt.xlabel('Epoch')\n",
    "plt.ylabel('Epsilon')\n",
    "plt.title('exploration vs time')\n",
    "plt.grid()\n",
    "plt.show()\n",
    "\n"
   ]
  },
  {
   "cell_type": "code",
   "execution_count": 40,
   "id": "896a7a5a-4d8f-457a-b7cd-e42aa2eaef73",
   "metadata": {},
   "outputs": [],
   "source": [
    "env=gym.make('FrozenLake-v1', desc=None, map_name=\"4x4\", is_slippery=False)"
   ]
  },
  {
   "cell_type": "code",
   "execution_count": 43,
   "id": "496279cd-b0d5-4f25-bb3a-afc67952dd7e",
   "metadata": {},
   "outputs": [
    {
     "name": "stdout",
     "output_type": "stream",
     "text": [
      "total cumulative rewards at episode 0 is 0.0\n",
      "total cumulative rewards at episode 500 is 376.0\n",
      "total cumulative rewards at episode 1000 is 871.0\n",
      "total cumulative rewards at episode 1500 is 1365.0\n",
      "total cumulative rewards at episode 2000 is 1852.0\n",
      "total cumulative rewards at episode 2500 is 2346.0\n",
      "total cumulative rewards at episode 3000 is 2840.0\n",
      "total cumulative rewards at episode 3500 is 3333.0\n",
      "total cumulative rewards at episode 4000 is 3825.0\n",
      "total cumulative rewards at episode 4500 is 4321.0\n",
      "total cumulative rewards at episode 5000 is 4817.0\n",
      "total cumulative rewards at episode 5500 is 5308.0\n",
      "total cumulative rewards at episode 6000 is 5801.0\n",
      "total cumulative rewards at episode 6500 is 6298.0\n",
      "total cumulative rewards at episode 7000 is 6792.0\n",
      "total cumulative rewards at episode 7500 is 7290.0\n",
      "total cumulative rewards at episode 8000 is 7781.0\n",
      "total cumulative rewards at episode 8500 is 8278.0\n",
      "total cumulative rewards at episode 9000 is 8774.0\n",
      "total cumulative rewards at episode 9500 is 9269.0\n",
      "total cumulative rewards at episode 10000 is 9761.0\n",
      "total cumulative rewards at episode 10500 is 10257.0\n",
      "total cumulative rewards at episode 11000 is 10753.0\n",
      "total cumulative rewards at episode 11500 is 11248.0\n",
      "total cumulative rewards at episode 12000 is 11740.0\n",
      "total cumulative rewards at episode 12500 is 12232.0\n",
      "total cumulative rewards at episode 13000 is 12726.0\n",
      "total cumulative rewards at episode 13500 is 13217.0\n",
      "total cumulative rewards at episode 14000 is 13704.0\n",
      "total cumulative rewards at episode 14500 is 14200.0\n",
      "total cumulative rewards at episode 15000 is 14694.0\n",
      "total cumulative rewards at episode 15500 is 15187.0\n",
      "total cumulative rewards at episode 16000 is 15679.0\n",
      "total cumulative rewards at episode 16500 is 16174.0\n",
      "total cumulative rewards at episode 17000 is 16667.0\n",
      "total cumulative rewards at episode 17500 is 17160.0\n",
      "total cumulative rewards at episode 18000 is 17654.0\n",
      "total cumulative rewards at episode 18500 is 18146.0\n",
      "total cumulative rewards at episode 19000 is 18640.0\n",
      "total cumulative rewards at episode 19500 is 19135.0\n"
     ]
    }
   ],
   "source": [
    "# Training loop\n",
    "episodes = 20000\n",
    "rewards = []\n",
    "cum_reward=0\n",
    "for episode in range(episodes):\n",
    "    # initialize the environment \n",
    "    \n",
    "    state,info = env.reset()\n",
    "\n",
    "    done = False\n",
    "    #reward = 0 # cummulative reward\n",
    "        \n",
    "    while not done:\n",
    "        \n",
    "        if np.random.random()<epsilon:\n",
    "            action = env.action_space.sample()\n",
    "        else:\n",
    "            action = np.argmax(Q[state,:])\n",
    "        next_state,reward,done,_,info = env.step(action)\n",
    "        # calculate the Q- value\n",
    "        Q[state,action] = Q[state,action] + Alpha*(reward + Gamma*np.max(Q[next_state,:])- Q[state,action])                                     \n",
    "        state = next_state \n",
    "        cum_reward += reward \n",
    "        #print(reward)\n",
    "        if episode%500 ==0 :\n",
    "            print(f'total cumulative rewards at episode {episode} is {cum_reward}')\n",
    "            #rewards.append(cum_reward)\n",
    "            break\n",
    "    epsilon = reduce_epsilon(epsilon,episode)\n",
    "    rewards.append(cum_reward)    \n",
    "    \n",
    "env.close()  \n",
    "np.save('Q.npy', Q)"
   ]
  },
  {
   "cell_type": "code",
   "execution_count": 59,
   "id": "54e7252b-3adf-44d0-be9c-073d326e1660",
   "metadata": {},
   "outputs": [
    {
     "data": {
      "text/plain": [
       "Text(0.5, 1.0, 'reward vs episode')"
      ]
     },
     "execution_count": 59,
     "metadata": {},
     "output_type": "execute_result"
    },
    {
     "data": {
      "image/png": "[encoded data removed]",
      "text/plain": [
       "<Figure size 640x480 with 1 Axes>"
      ]
     },
     "metadata": {},
     "output_type": "display_data"
    }
   ],
   "source": [
    "\n",
    "plt.plot(range(episodes),rewards)\n",
    "plt.xlabel('episode')\n",
    "plt.ylabel('reward')\n",
    "plt.title('reward vs episode')"
   ]
  },
  {
   "cell_type": "code",
   "execution_count": 45,
   "id": "818a897b-7660-4f6c-8473-f6580ecc8653",
   "metadata": {},
   "outputs": [],
   "source": [
    "# Reinitialize the environment \n",
    "env=gym.make('FrozenLake-v1', desc=None, map_name=\"4x4\", is_slippery=False,render_mode='human')"
   ]
  },
  {
   "cell_type": "code",
   "execution_count": 56,
   "id": "0ea2c6aa-8e7a-49b2-a42e-fc8b8c8b98cd",
   "metadata": {},
   "outputs": [],
   "source": [
    "# Q-Network Learning "
   ]
  },
  {
   "cell_type": "code",
   "execution_count": 46,
   "id": "a28c2a7e-8b65-497a-a4ab-6504a73ebe66",
   "metadata": {},
   "outputs": [
    {
     "name": "stdout",
     "output_type": "stream",
     "text": [
      "reward at round: 1 is = 1.0\n",
      "reward at round: 2 is = 1.0\n",
      "reward at round: 3 is = 1.0\n",
      "reward at round: 4 is = 1.0\n",
      "reward at round: 5 is = 1.0\n"
     ]
    }
   ],
   "source": [
    "q_table = np.load('Q.npy')\n",
    "state,info = env.reset()\n",
    "reward=0\n",
    "round=0\n",
    "for steps in range(30):\n",
    "    env.render()\n",
    "    action = np.argmax(q_table[state,:])\n",
    "    state,reward,truncated,terminated,info = env.step(action)\n",
    "    \n",
    "    time.sleep(1)    \n",
    "    if truncated or terminated:\n",
    "        round += 1\n",
    "        print(f\"reward at round: {round} is = {reward}\")\n",
    "        state,info = env.reset()\n",
    "env.close()"
   ]
  },
  {
   "cell_type": "markdown",
   "id": "d2965242-b212-4864-a629-01fc10777adb",
   "metadata": {},
   "source": [
    "# Explore further "
   ]
  },
  {
   "cell_type": "code",
   "execution_count": null,
   "id": "33610e2a-4af2-4eba-a880-38d25add3cac",
   "metadata": {},
   "outputs": [],
   "source": [
    "# using DQN"
   ]
  },
  {
   "cell_type": "code",
   "execution_count": 47,
   "id": "132899ea-7415-44e0-86b3-ff82239f9626",
   "metadata": {},
   "outputs": [],
   "source": [
    "import gymnasium as gym\n",
    "import time\n",
    "import random\n",
    "import torch\n",
    "import numpy as np\n",
    "from collections import deque\n",
    "import matplotlib.pyplot as plt\n",
    "%matplotlib inline\n",
    "from dqn_agent import Agent"
   ]
  },
  {
   "cell_type": "code",
   "execution_count": 52,
   "id": "217c98c4-6310-4109-b726-f84f85e43ad6",
   "metadata": {},
   "outputs": [
    {
     "name": "stdout",
     "output_type": "stream",
     "text": [
      "State shape:  16\n",
      "Number of actions:  4\n"
     ]
    }
   ],
   "source": [
    "env = gym.make('FrozenLake-v1',is_slippery=False) # make actions deterministic\n",
    "print('State shape: ', env.observation_space.n)\n",
    "print('Number of actions: ', env.action_space.n)"
   ]
  },
  {
   "cell_type": "code",
   "execution_count": 53,
   "id": "0cf45b5f-26ee-4e93-9560-9e28e2ad6af2",
   "metadata": {},
   "outputs": [],
   "source": [
    "state_size = env.observation_space.n\n",
    "action_size = env.action_space.n\n",
    "agent = Agent(int(state_size), int(action_size) , seed=0)"
   ]
  },
  {
   "cell_type": "code",
   "execution_count": 54,
   "id": "99bd897a-bef4-4b08-add1-0b51ea1cc4e4",
   "metadata": {},
   "outputs": [],
   "source": [
    "def preprocess_state(state, state_size):\n",
    "    state = np.identity(state_size)[state]\n",
    "    return state.astype(np.float32)\n",
    "\n"
   ]
  },
  {
   "cell_type": "code",
   "execution_count": 55,
   "id": "440d8c40-df97-432e-a8c7-d67f86714b49",
   "metadata": {},
   "outputs": [
    {
     "name": "stdout",
     "output_type": "stream",
     "text": [
      "Episode 100\tAverage Score: 0.02\n",
      "Episode 200\tAverage Score: 0.08\n",
      "Episode 300\tAverage Score: 0.46\n",
      "Episode 400\tAverage Score: 0.83\n",
      "Episode 500\tAverage Score: 0.86\n",
      "Episode 600\tAverage Score: 0.88\n",
      "Episode 700\tAverage Score: 0.93\n",
      "\n",
      "Environment solved in 684 episodes!\tAverage Score: 1.00\n"
     ]
    },
    {
     "data": {
      "image/png": "[encoded data removed]",
      "text/plain": [
       "<Figure size 640x480 with 1 Axes>"
      ]
     },
     "metadata": {},
     "output_type": "display_data"
    }
   ],
   "source": [
    "def dqn(n_episodes=5000, max_t=1000, eps_start=1.0, eps_end=0.01, eps_decay=0.995):\n",
    "    \"\"\"Deep Q-Learning.\n",
    "    \n",
    "    Params\n",
    "    ======\n",
    "        n_episodes (int): maximum number of training episodes\n",
    "        max_t (int): maximum number of timesteps per episode\n",
    "        eps_start (float): starting value of epsilon, for epsilon-greedy action selection\n",
    "        eps_end (float): minimum value of epsilon\n",
    "        eps_decay (float): multiplicative factor (per episode) for decreasing epsilon\n",
    "    \"\"\"\n",
    "    scores = []                        # list containing scores from each episode\n",
    "    scores_window = deque(maxlen=100)  # last 100 scores\n",
    "    eps = eps_start                    # initialize epsilon\n",
    "    for i_episode in range(1, n_episodes+1):\n",
    "        state,info = env.reset()\n",
    "        state = preprocess_state(state, agent.state_size) \n",
    "        score = 0\n",
    "        for t in range(max_t):\n",
    "            action = agent.act(state, eps)\n",
    "            next_state, reward, done, info,_ = env.step(action)\n",
    "            next_state = preprocess_state(next_state, agent.state_size)\n",
    "            agent.step(state, action, reward, next_state, done)\n",
    "            state = next_state\n",
    "            score += reward\n",
    "            if done:\n",
    "                break \n",
    "        scores_window.append(score)       # save most recent score\n",
    "        scores.append(score)              # save most recent score\n",
    "        eps = max(eps_end, eps_decay*eps) # decrease epsilon\n",
    "        #print('\\rEpisode {}\\tAverage Score: {:.2f}'.format(i_episode, np.mean(scores_window)), end=\"\")\n",
    "        if i_episode % 100 == 0:\n",
    "            print('\\rEpisode {}\\tAverage Score: {:.2f}'.format(i_episode, np.mean(scores_window)))\n",
    "        if np.mean(scores_window)>=1.0:\n",
    "            print('\\nEnvironment solved in {:d} episodes!\\tAverage Score: {:.2f}'.format(i_episode-100, np.mean(scores_window)))\n",
    "            torch.save(agent.qnetwork_local.state_dict(), 'checkpoint_frozen_lake.pth')\n",
    "            break\n",
    "    return scores\n",
    "\n",
    "scores = dqn()\n",
    "\n",
    "# plot the scores\n",
    "fig = plt.figure()\n",
    "ax = fig.add_subplot(111)\n",
    "plt.plot(np.arange(len(scores)), scores)\n",
    "plt.ylabel('Score')\n",
    "plt.xlabel('Episode #')\n",
    "plt.show()"
   ]
  },
  {
   "cell_type": "code",
   "execution_count": 57,
   "id": "83f948d3-df48-4096-b814-0cbc86eeae4c",
   "metadata": {},
   "outputs": [],
   "source": [
    "env=gym.make('FrozenLake-v1', desc=None, map_name=\"4x4\", is_slippery=False,render_mode='human')"
   ]
  },
  {
   "cell_type": "code",
   "execution_count": 58,
   "id": "70476682-1da0-4094-98aa-496dc8839756",
   "metadata": {},
   "outputs": [],
   "source": [
    "agent.qnetwork_local.load_state_dict(torch.load('checkpoint_frozen_lake.pth'))\n",
    "\n",
    "for i in range(3):\n",
    "    state,info = env.reset()\n",
    "    state = preprocess_state(state, agent.state_size) \n",
    "    for j in range(400):\n",
    "        action = agent.act(state)\n",
    "        env.render()\n",
    "        time.sleep(0.3)\n",
    "        state, reward,terminated,truncated,info= env.step(action)\n",
    "        state = preprocess_state(state, agent.state_size) \n",
    "        if terminated or truncated:\n",
    "            break \n",
    "            \n",
    "env.close()"
   ]
  },
  {
   "cell_type": "code",
   "execution_count": null,
   "id": "7ee33cf5-8b0e-4854-852a-84576ef3748c",
   "metadata": {},
   "outputs": [],
   "source": []
  }
 ],
 "metadata": {
  "kernelspec": {
   "display_name": "Python 3 (ipykernel)",
   "language": "python",
   "name": "python3"
  },
  "language_info": {
   "codemirror_mode": {
    "name": "ipython",
    "version": 3
   },
   "file_extension": ".py",
   "mimetype": "text/x-python",
   "name": "python",
   "nbconvert_exporter": "python",
   "pygments_lexer": "ipython3",
   "version": "3.9.16"
  }
 },
 "nbformat": 4,
 "nbformat_minor": 5
}
